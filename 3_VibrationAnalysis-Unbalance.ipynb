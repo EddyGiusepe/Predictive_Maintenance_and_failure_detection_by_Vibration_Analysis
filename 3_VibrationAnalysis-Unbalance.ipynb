{
 "cells": [
  {
   "cell_type": "markdown",
   "metadata": {},
   "source": [
    "# <h1 align=\"center\"><font color=\"red\">Vibration Analysis: Unbalance</font></h1>"
   ]
  },
  {
   "cell_type": "markdown",
   "metadata": {},
   "source": [
    "<font color=\"pink\">Senior Data Scientist.: Dr. Eddy Giusepe Chirinos Isidro</font>"
   ]
  },
  {
   "cell_type": "markdown",
   "metadata": {},
   "source": [
    "![](https://i.ytimg.com/vi/K1Vnyts3DRE/maxresdefault.jpg)"
   ]
  },
  {
   "cell_type": "markdown",
   "metadata": {},
   "source": [
    "# <font color=\"gree\">Contextualizando</font>"
   ]
  },
  {
   "cell_type": "markdown",
   "metadata": {},
   "source": [
    "A vibração de um ativo é um indicador precioso de anormalidades em seu comportamento, por isso a análise de vibração. Estas, caso não sejam identificadas rapidamente para serem corrigidas, podem provocar sérios danos ao equipamento; trazendo riscos operacionais, de segurança e podendo levar a interrupções na linha de produção, de máquinas e equipamentos, acarretando em elevados prejuízos financeiros em custos de manutenção.\n",
    "\n",
    "Por outro lado, a vibração, quando medida e analisada corretamente pode ser usada como um importante indicador do estado de saúde da máquina, ajudando o profissional da manutenção a tomar ações corretivas e evitar futuros problemas. <font color=\"yellow\">Lembrar, que todas as máquinas, quando estão em funcionamento emitem um determinado espectro de vibração.</font> \n",
    "\n",
    "É importante relembrar que cada tipo de equipamento possui uma <font color=\"yellow\">assinatura espectral original</font> e que cada elemento de máquina que o compõe, é responsável por uma parcela das frequências que constituem este espectro, resultado obtido por analisadores de frequência."
   ]
  },
  {
   "cell_type": "markdown",
   "metadata": {},
   "source": [
    "![](https://bimgix.tractian.com/guia-das-vibracoes-desbalanceamento-1.png)"
   ]
  },
  {
   "cell_type": "markdown",
   "metadata": {},
   "source": [
    "O desgaste, má utilização, manutenção inadequada ou inexistente, entre outras causas, levam à alteração das propriedades dinâmicas dos equipamentos, levando a falhas como:\n",
    "\n",
    "* desbalanceamento\n",
    "\n",
    "* [desalinhamento](https://tractian.com/blog/desalinhamento-de-eixos-e-os-perigos-para-seu-equipamento?ref=tractian-1.ghost.io)\n",
    "\n",
    "* empenamento de eixos\n",
    "\n",
    "* roçamento entre partes fixas e girantes de um equipamento\n",
    "\n",
    "* [folgas mecânicas](https://tractian.com/blog/tipos-de-folga-mecanica-e-como-solucionar?ref=tractian-1.ghost.io)\n",
    "\n",
    "* desgaste e falhas em `engrenagens`, `rolamentos`, etc."
   ]
  },
  {
   "cell_type": "markdown",
   "metadata": {},
   "source": [
    "## <font color=\"pink\">Como é possível saber qual tipo de falha estamos enfrentando apenas ao observar o espectro?</font>"
   ]
  },
  {
   "cell_type": "markdown",
   "metadata": {},
   "source": [
    "<font color=\"yellow\">Cada categoria de falha deteriora de forma particular a assinatura espectral do equipamento.</font> Logo, ao analisar o espectro e detectar frequências incoerentes com o comportamento esperado para aquela máquina nas condições normais de operação, é possível identificar as características de vibração de cada componente individual e diagnosticar problemas entre os listados anteriormente, como por exemplo, `desgaste`, `desalinhamento` e `folgas mecânicas`.\n",
    "\n",
    "Atualmente existem tecnologias baseadas em `Inteligência Artificial`, `Ciência de Dados` e `Redes Neurais` que promovem o monitoramento online de ativos em tempo real, que utilizam, entre outras técnicas, a análise espectral para detecção de falhas.\n",
    "\n",
    "A <font color=\"red\">TRACTIAN</font> é uma delas, em que os algoritmos que constituem a base de sua plataforma, atuando na linha de frente da detecção de anomalias no comportamento do ativo, são baseados fundamentalmente nos tipos de análise dos sinais vibratórios adquiridos com os sensores."
   ]
  },
  {
   "cell_type": "markdown",
   "metadata": {},
   "source": [
    "## <font color=\"pink\">Como é feita a detecção de falhas através de algoritmos?</font>"
   ]
  },
  {
   "cell_type": "markdown",
   "metadata": {},
   "source": [
    "A `primeira etapa` do processo de detecção pelos algoritmos consiste no `levantamento da assinatura espectral do equipamento que está sendo analisado`. Esta assinatura espectral é equivalente a uma leitura do comportamento vibratório intrínseco ao ativo, que chamamos de <font color=\"yellow\">“DNA de vibração do equipamento”</font>, porque representa sua resposta vibratória nas condições regulares de operação.\n",
    "\n",
    "Qualquer anormalidade no comportamento vibratório habitual do equipamento ou quaisquer frequências (`análise de frequência`) desconhecidas de seu espectro regular são identificadas imediatamente pela plataforma, a partir disso `Insights` são gerados e enviados na forma de alertas `e-mail` e `WhatsApp` para que os responsáveis pela manutenção possam entrar em ação.\n",
    "\n",
    "\n",
    "[Confira o artigo sobre como a análise de vibração permite detectar possíveis falhas nos componentes, clicando aqui.](https://tractian.com/blog/analise-de-vibracoes?ref=tractian-1.ghost.io)\n",
    "\n",
    "\n",
    "Após entendermos um pouco mais sobre como a vibração e principalmente o seu espectro constituem uma ferramenta muito importante na detecção de anormalidades no comportamento dos ativos, iremos abordar o primeiro tipo de falha apresentado na `série Guia das Vibrações e Análise Espectral`, Unbalance. Vamos explicar o que é, quais são os tipos mais comuns e como ele pode ser detectado no espectro de vibração. "
   ]
  },
  {
   "cell_type": "markdown",
   "metadata": {},
   "source": [
    "# <font color=\"gree\">Unbalance</font>"
   ]
  },
  {
   "cell_type": "code",
   "execution_count": null,
   "metadata": {
    "vscode": {
     "languageId": "plaintext"
    }
   },
   "outputs": [],
   "source": []
  },
  {
   "cell_type": "code",
   "execution_count": null,
   "metadata": {
    "vscode": {
     "languageId": "plaintext"
    }
   },
   "outputs": [],
   "source": []
  },
  {
   "cell_type": "code",
   "execution_count": null,
   "metadata": {
    "vscode": {
     "languageId": "plaintext"
    }
   },
   "outputs": [],
   "source": []
  }
 ],
 "metadata": {
  "kernelspec": {
   "display_name": "venv_Maintenance",
   "language": "python",
   "name": "python3"
  },
  "language_info": {
   "codemirror_mode": {
    "name": "ipython",
    "version": 3
   },
   "file_extension": ".py",
   "mimetype": "text/x-python",
   "name": "python",
   "nbconvert_exporter": "python",
   "pygments_lexer": "ipython3",
   "version": "3.12.4"
  }
 },
 "nbformat": 4,
 "nbformat_minor": 2
}
