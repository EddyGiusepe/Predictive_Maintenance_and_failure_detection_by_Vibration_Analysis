{
 "cells": [
  {
   "cell_type": "markdown",
   "metadata": {},
   "source": [
    "# <h1 align=\"center\"><font color=\"red\">Predicting Machine Failure with Time-Series Pattern Matching</font></h1>"
   ]
  },
  {
   "cell_type": "markdown",
   "metadata": {},
   "source": [
    "<font color=\"pink\">Senior Data Scientist.: Dr. Eddy Giusepe Chirinos Isidro</font>"
   ]
  },
  {
   "cell_type": "markdown",
   "metadata": {},
   "source": [
    "Links de estudo:\n",
    "\n",
    "* [TSS Transformado](https://code.kx.com/kdbai/reference/transformed-tss.html)\n",
    "\n",
    "* [TSS Não Transformado](https://code.kx.com/kdbai/use/non-transformed-tss.html)"
   ]
  },
  {
   "cell_type": "markdown",
   "metadata": {},
   "source": [
    "# <font color=\"gree\">An Introduction to Temporal Similarity Search (`TSS`)</font>"
   ]
  },
  {
   "cell_type": "markdown",
   "metadata": {},
   "source": [
    "## <font color=\"yellow\">Predictive Maintenance</font>"
   ]
  },
  {
   "cell_type": "markdown",
   "metadata": {},
   "source": [
    "A manutenção preditiva envolve o uso de `TSS` para prever quando falhas de equipamento podem ocorrer. Ao analisar padrões em dados de séries temporais de `sensores`, é possível encontrar sinais precoces de desgaste ou mau funcionamento do equipamento. Isso significa que a manutenção pode ser programada proativamente, reduzindo o tempo de inatividade e estendendo a vida útil do maquinário. Por exemplo, se um padrão específico historicamente precedeu uma falha, detectar o padrão precocemente pode disparar um alerta de manutenção antes que a falha ocorra."
   ]
  },
  {
   "cell_type": "markdown",
   "metadata": {},
   "source": [
    "<font color=\"orange\">`Por exemplo`, imagine um cenário em que temos dados de séries temporais representando o desempenho do maquinário e precisamos identificar instâncias de comportamento incomum, como picos, quedas ou tendências recorrentes.\n",
    "\n",
    "Nós o guiaremos por uma abordagem direta que alavanca os dados brutos de séries temporais diretamente, `sem a necessidade de modelagem complexa` ou conhecimento especializado em domínio. Essa abordagem é particularmente atraente porque não requer recursos adicionais para a criação do modelo. O exemplo demonstrará que esse método simplista pode produzir resultados satisfatórios.</font>"
   ]
  },
  {
   "cell_type": "markdown",
   "metadata": {},
   "source": [
    "## <font color=\"yellow\">Objetivo:</font>"
   ]
  },
  {
   "cell_type": "markdown",
   "metadata": {},
   "source": [
    "Este tutorial percorrerá o processo de armazenamento de dados de séries temporais em um `banco de dados vetorial`, gerando `Embeddings` de vetores de `séries temporais`. Usaremos o banco de dados vetorial do `KDB.AI` para encontrar padrões que correspondam a um padrão de consulta de entrada. Abordaremos os seguintes tópicos:\n",
    "\n",
    "* Dados do sensor de carga\n",
    "\n",
    "* Criar `Embeddings` de vetores de sensores\n",
    "\n",
    "* Armazene `Embeddings` no `KDB.AI`\n",
    "\n",
    "* Pesquisar por sequências semelhantes a uma sequência de sensor de alvo\n",
    "\n",
    "* Excluir a tabela `KDB.AI`"
   ]
  },
  {
   "cell_type": "code",
   "execution_count": null,
   "metadata": {},
   "outputs": [],
   "source": []
  }
 ],
 "metadata": {
  "kernelspec": {
   "display_name": "venv_Maintenance",
   "language": "python",
   "name": "python3"
  },
  "language_info": {
   "codemirror_mode": {
    "name": "ipython",
    "version": 3
   },
   "file_extension": ".py",
   "mimetype": "text/x-python",
   "name": "python",
   "nbconvert_exporter": "python",
   "pygments_lexer": "ipython3",
   "version": "3.12.4"
  }
 },
 "nbformat": 4,
 "nbformat_minor": 2
}
